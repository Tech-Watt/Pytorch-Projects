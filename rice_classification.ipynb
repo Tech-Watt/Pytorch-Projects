{
 "cells": [
  {
   "cell_type": "code",
   "execution_count": 58,
   "id": "d5e7af3a",
   "metadata": {},
   "outputs": [],
   "source": [
    "import torch \n",
    "from torch.optim import Adam\n",
    "from torch.utils.data import Dataset,DataLoader\n",
    "import torch.nn as nn \n",
    "import pandas as pd \n",
    "from sklearn.model_selection import train_test_split\n",
    "import matplotlib.pyplot as plt \n",
    "from torchinfo import summary\n",
    "import numpy as np"
   ]
  },
  {
   "cell_type": "markdown",
   "id": "11907bb8",
   "metadata": {},
   "source": [
    "Data Processing with Pandas"
   ]
  },
  {
   "cell_type": "code",
   "execution_count": 59,
   "id": "c3a6dddc",
   "metadata": {},
   "outputs": [
    {
     "data": {
      "text/html": [
       "<div>\n",
       "<style scoped>\n",
       "    .dataframe tbody tr th:only-of-type {\n",
       "        vertical-align: middle;\n",
       "    }\n",
       "\n",
       "    .dataframe tbody tr th {\n",
       "        vertical-align: top;\n",
       "    }\n",
       "\n",
       "    .dataframe thead th {\n",
       "        text-align: right;\n",
       "    }\n",
       "</style>\n",
       "<table border=\"1\" class=\"dataframe\">\n",
       "  <thead>\n",
       "    <tr style=\"text-align: right;\">\n",
       "      <th></th>\n",
       "      <th>id</th>\n",
       "      <th>Area</th>\n",
       "      <th>MajorAxisLength</th>\n",
       "      <th>MinorAxisLength</th>\n",
       "      <th>Eccentricity</th>\n",
       "      <th>ConvexArea</th>\n",
       "      <th>EquivDiameter</th>\n",
       "      <th>Extent</th>\n",
       "      <th>Perimeter</th>\n",
       "      <th>Roundness</th>\n",
       "      <th>AspectRation</th>\n",
       "      <th>Class</th>\n",
       "    </tr>\n",
       "  </thead>\n",
       "  <tbody>\n",
       "    <tr>\n",
       "      <th>0</th>\n",
       "      <td>1</td>\n",
       "      <td>4537</td>\n",
       "      <td>92.229316</td>\n",
       "      <td>64.012769</td>\n",
       "      <td>0.719916</td>\n",
       "      <td>4677</td>\n",
       "      <td>76.004525</td>\n",
       "      <td>0.657536</td>\n",
       "      <td>273.085</td>\n",
       "      <td>0.764510</td>\n",
       "      <td>1.440796</td>\n",
       "      <td>1</td>\n",
       "    </tr>\n",
       "    <tr>\n",
       "      <th>1</th>\n",
       "      <td>2</td>\n",
       "      <td>2872</td>\n",
       "      <td>74.691881</td>\n",
       "      <td>51.400454</td>\n",
       "      <td>0.725553</td>\n",
       "      <td>3015</td>\n",
       "      <td>60.471018</td>\n",
       "      <td>0.713009</td>\n",
       "      <td>208.317</td>\n",
       "      <td>0.831658</td>\n",
       "      <td>1.453137</td>\n",
       "      <td>1</td>\n",
       "    </tr>\n",
       "    <tr>\n",
       "      <th>2</th>\n",
       "      <td>3</td>\n",
       "      <td>3048</td>\n",
       "      <td>76.293164</td>\n",
       "      <td>52.043491</td>\n",
       "      <td>0.731211</td>\n",
       "      <td>3132</td>\n",
       "      <td>62.296341</td>\n",
       "      <td>0.759153</td>\n",
       "      <td>210.012</td>\n",
       "      <td>0.868434</td>\n",
       "      <td>1.465950</td>\n",
       "      <td>1</td>\n",
       "    </tr>\n",
       "    <tr>\n",
       "      <th>3</th>\n",
       "      <td>4</td>\n",
       "      <td>3073</td>\n",
       "      <td>77.033628</td>\n",
       "      <td>51.928487</td>\n",
       "      <td>0.738639</td>\n",
       "      <td>3157</td>\n",
       "      <td>62.551300</td>\n",
       "      <td>0.783529</td>\n",
       "      <td>210.657</td>\n",
       "      <td>0.870203</td>\n",
       "      <td>1.483456</td>\n",
       "      <td>1</td>\n",
       "    </tr>\n",
       "    <tr>\n",
       "      <th>4</th>\n",
       "      <td>5</td>\n",
       "      <td>3693</td>\n",
       "      <td>85.124785</td>\n",
       "      <td>56.374021</td>\n",
       "      <td>0.749282</td>\n",
       "      <td>3802</td>\n",
       "      <td>68.571668</td>\n",
       "      <td>0.769375</td>\n",
       "      <td>230.332</td>\n",
       "      <td>0.874743</td>\n",
       "      <td>1.510000</td>\n",
       "      <td>1</td>\n",
       "    </tr>\n",
       "  </tbody>\n",
       "</table>\n",
       "</div>"
      ],
      "text/plain": [
       "   id  Area  MajorAxisLength  MinorAxisLength  Eccentricity  ConvexArea  \\\n",
       "0   1  4537        92.229316        64.012769      0.719916        4677   \n",
       "1   2  2872        74.691881        51.400454      0.725553        3015   \n",
       "2   3  3048        76.293164        52.043491      0.731211        3132   \n",
       "3   4  3073        77.033628        51.928487      0.738639        3157   \n",
       "4   5  3693        85.124785        56.374021      0.749282        3802   \n",
       "\n",
       "   EquivDiameter    Extent  Perimeter  Roundness  AspectRation  Class  \n",
       "0      76.004525  0.657536    273.085   0.764510      1.440796      1  \n",
       "1      60.471018  0.713009    208.317   0.831658      1.453137      1  \n",
       "2      62.296341  0.759153    210.012   0.868434      1.465950      1  \n",
       "3      62.551300  0.783529    210.657   0.870203      1.483456      1  \n",
       "4      68.571668  0.769375    230.332   0.874743      1.510000      1  "
      ]
     },
     "execution_count": 59,
     "metadata": {},
     "output_type": "execute_result"
    }
   ],
   "source": [
    "df = pd.read_csv('riceClassification.csv')\n",
    "df.head()"
   ]
  },
  {
   "cell_type": "code",
   "execution_count": 60,
   "id": "52a85e24",
   "metadata": {},
   "outputs": [
    {
     "data": {
      "text/plain": [
       "Index(['id', 'Area', 'MajorAxisLength', 'MinorAxisLength', 'Eccentricity',\n",
       "       'ConvexArea', 'EquivDiameter', 'Extent', 'Perimeter', 'Roundness',\n",
       "       'AspectRation', 'Class'],\n",
       "      dtype='object')"
      ]
     },
     "execution_count": 60,
     "metadata": {},
     "output_type": "execute_result"
    }
   ],
   "source": [
    "df.columns"
   ]
  },
  {
   "cell_type": "code",
   "execution_count": 61,
   "id": "8c2e6a8b",
   "metadata": {},
   "outputs": [
    {
     "data": {
      "text/plain": [
       "(18185, 12)"
      ]
     },
     "execution_count": 61,
     "metadata": {},
     "output_type": "execute_result"
    }
   ],
   "source": [
    "df.shape"
   ]
  },
  {
   "cell_type": "code",
   "execution_count": 62,
   "id": "3c2f5b87",
   "metadata": {},
   "outputs": [
    {
     "data": {
      "text/plain": [
       "id                   int64\n",
       "Area                 int64\n",
       "MajorAxisLength    float64\n",
       "MinorAxisLength    float64\n",
       "Eccentricity       float64\n",
       "ConvexArea           int64\n",
       "EquivDiameter      float64\n",
       "Extent             float64\n",
       "Perimeter          float64\n",
       "Roundness          float64\n",
       "AspectRation       float64\n",
       "Class                int64\n",
       "dtype: object"
      ]
     },
     "execution_count": 62,
     "metadata": {},
     "output_type": "execute_result"
    }
   ],
   "source": [
    "df.dtypes"
   ]
  },
  {
   "cell_type": "code",
   "execution_count": 63,
   "id": "d881d40d",
   "metadata": {},
   "outputs": [
    {
     "data": {
      "text/plain": [
       "id                 0\n",
       "Area               0\n",
       "MajorAxisLength    0\n",
       "MinorAxisLength    0\n",
       "Eccentricity       0\n",
       "ConvexArea         0\n",
       "EquivDiameter      0\n",
       "Extent             0\n",
       "Perimeter          0\n",
       "Roundness          0\n",
       "AspectRation       0\n",
       "Class              0\n",
       "dtype: int64"
      ]
     },
     "execution_count": 63,
     "metadata": {},
     "output_type": "execute_result"
    }
   ],
   "source": [
    "df.isnull().sum()"
   ]
  },
  {
   "cell_type": "code",
   "execution_count": 64,
   "id": "d82bade9",
   "metadata": {},
   "outputs": [
    {
     "data": {
      "text/plain": [
       "id                 0\n",
       "Area               0\n",
       "MajorAxisLength    0\n",
       "MinorAxisLength    0\n",
       "Eccentricity       0\n",
       "ConvexArea         0\n",
       "EquivDiameter      0\n",
       "Extent             0\n",
       "Perimeter          0\n",
       "Roundness          0\n",
       "AspectRation       0\n",
       "Class              0\n",
       "dtype: int64"
      ]
     },
     "execution_count": 64,
     "metadata": {},
     "output_type": "execute_result"
    }
   ],
   "source": [
    "df.isna().sum()"
   ]
  },
  {
   "cell_type": "code",
   "execution_count": 65,
   "id": "496568fb",
   "metadata": {},
   "outputs": [
    {
     "data": {
      "text/plain": [
       "np.int64(0)"
      ]
     },
     "execution_count": 65,
     "metadata": {},
     "output_type": "execute_result"
    }
   ],
   "source": [
    "df.duplicated().sum()"
   ]
  },
  {
   "cell_type": "code",
   "execution_count": 66,
   "id": "9de7897a",
   "metadata": {},
   "outputs": [
    {
     "data": {
      "text/plain": [
       "array([1, 0])"
      ]
     },
     "execution_count": 66,
     "metadata": {},
     "output_type": "execute_result"
    }
   ],
   "source": [
    "df['Class'].unique()"
   ]
  },
  {
   "cell_type": "code",
   "execution_count": 67,
   "id": "3ffea27b",
   "metadata": {},
   "outputs": [
    {
     "data": {
      "text/plain": [
       "<Axes: title={'center': 'Data Distribution for the various classes'}, xlabel='Class'>"
      ]
     },
     "execution_count": 67,
     "metadata": {},
     "output_type": "execute_result"
    },
    {
     "data": {
      "image/png": "[encoded data removed]",
      "text/plain": [
       "<Figure size 640x480 with 1 Axes>"
      ]
     },
     "metadata": {},
     "output_type": "display_data"
    }
   ],
   "source": [
    "df['Class'].value_counts().plot(kind='bar',title='Data Distribution for the various classes')"
   ]
  },
  {
   "cell_type": "code",
   "execution_count": 68,
   "id": "b86be91e",
   "metadata": {},
   "outputs": [
    {
     "data": {
      "text/html": [
       "<div>\n",
       "<style scoped>\n",
       "    .dataframe tbody tr th:only-of-type {\n",
       "        vertical-align: middle;\n",
       "    }\n",
       "\n",
       "    .dataframe tbody tr th {\n",
       "        vertical-align: top;\n",
       "    }\n",
       "\n",
       "    .dataframe thead th {\n",
       "        text-align: right;\n",
       "    }\n",
       "</style>\n",
       "<table border=\"1\" class=\"dataframe\">\n",
       "  <thead>\n",
       "    <tr style=\"text-align: right;\">\n",
       "      <th></th>\n",
       "      <th>count</th>\n",
       "      <th>mean</th>\n",
       "      <th>std</th>\n",
       "      <th>min</th>\n",
       "      <th>25%</th>\n",
       "      <th>50%</th>\n",
       "      <th>75%</th>\n",
       "      <th>max</th>\n",
       "    </tr>\n",
       "  </thead>\n",
       "  <tbody>\n",
       "    <tr>\n",
       "      <th>id</th>\n",
       "      <td>18185.0</td>\n",
       "      <td>9093.000000</td>\n",
       "      <td>5249.701658</td>\n",
       "      <td>1.000000</td>\n",
       "      <td>4547.000000</td>\n",
       "      <td>9093.000000</td>\n",
       "      <td>13639.000000</td>\n",
       "      <td>18185.000000</td>\n",
       "    </tr>\n",
       "    <tr>\n",
       "      <th>Area</th>\n",
       "      <td>18185.0</td>\n",
       "      <td>7036.492989</td>\n",
       "      <td>1467.197150</td>\n",
       "      <td>2522.000000</td>\n",
       "      <td>5962.000000</td>\n",
       "      <td>6660.000000</td>\n",
       "      <td>8423.000000</td>\n",
       "      <td>10210.000000</td>\n",
       "    </tr>\n",
       "    <tr>\n",
       "      <th>MajorAxisLength</th>\n",
       "      <td>18185.0</td>\n",
       "      <td>151.680754</td>\n",
       "      <td>12.376402</td>\n",
       "      <td>74.133114</td>\n",
       "      <td>145.675910</td>\n",
       "      <td>153.883750</td>\n",
       "      <td>160.056214</td>\n",
       "      <td>183.211434</td>\n",
       "    </tr>\n",
       "    <tr>\n",
       "      <th>MinorAxisLength</th>\n",
       "      <td>18185.0</td>\n",
       "      <td>59.807851</td>\n",
       "      <td>10.061653</td>\n",
       "      <td>34.409894</td>\n",
       "      <td>51.393151</td>\n",
       "      <td>55.724288</td>\n",
       "      <td>70.156593</td>\n",
       "      <td>82.550762</td>\n",
       "    </tr>\n",
       "    <tr>\n",
       "      <th>Eccentricity</th>\n",
       "      <td>18185.0</td>\n",
       "      <td>0.915406</td>\n",
       "      <td>0.030575</td>\n",
       "      <td>0.676647</td>\n",
       "      <td>0.891617</td>\n",
       "      <td>0.923259</td>\n",
       "      <td>0.941372</td>\n",
       "      <td>0.966774</td>\n",
       "    </tr>\n",
       "    <tr>\n",
       "      <th>ConvexArea</th>\n",
       "      <td>18185.0</td>\n",
       "      <td>7225.817872</td>\n",
       "      <td>1502.006571</td>\n",
       "      <td>2579.000000</td>\n",
       "      <td>6125.000000</td>\n",
       "      <td>6843.000000</td>\n",
       "      <td>8645.000000</td>\n",
       "      <td>11008.000000</td>\n",
       "    </tr>\n",
       "    <tr>\n",
       "      <th>EquivDiameter</th>\n",
       "      <td>18185.0</td>\n",
       "      <td>94.132952</td>\n",
       "      <td>9.906250</td>\n",
       "      <td>56.666658</td>\n",
       "      <td>87.126656</td>\n",
       "      <td>92.085696</td>\n",
       "      <td>103.559146</td>\n",
       "      <td>114.016559</td>\n",
       "    </tr>\n",
       "    <tr>\n",
       "      <th>Extent</th>\n",
       "      <td>18185.0</td>\n",
       "      <td>0.616653</td>\n",
       "      <td>0.104389</td>\n",
       "      <td>0.383239</td>\n",
       "      <td>0.538530</td>\n",
       "      <td>0.601194</td>\n",
       "      <td>0.695664</td>\n",
       "      <td>0.886573</td>\n",
       "    </tr>\n",
       "    <tr>\n",
       "      <th>Perimeter</th>\n",
       "      <td>18185.0</td>\n",
       "      <td>351.606949</td>\n",
       "      <td>29.500620</td>\n",
       "      <td>197.015000</td>\n",
       "      <td>333.990000</td>\n",
       "      <td>353.088000</td>\n",
       "      <td>373.003000</td>\n",
       "      <td>508.511000</td>\n",
       "    </tr>\n",
       "    <tr>\n",
       "      <th>Roundness</th>\n",
       "      <td>18185.0</td>\n",
       "      <td>0.707998</td>\n",
       "      <td>0.067310</td>\n",
       "      <td>0.174590</td>\n",
       "      <td>0.650962</td>\n",
       "      <td>0.701941</td>\n",
       "      <td>0.769280</td>\n",
       "      <td>0.904748</td>\n",
       "    </tr>\n",
       "    <tr>\n",
       "      <th>AspectRation</th>\n",
       "      <td>18185.0</td>\n",
       "      <td>2.599081</td>\n",
       "      <td>0.434836</td>\n",
       "      <td>1.358128</td>\n",
       "      <td>2.208527</td>\n",
       "      <td>2.602966</td>\n",
       "      <td>2.964101</td>\n",
       "      <td>3.911845</td>\n",
       "    </tr>\n",
       "    <tr>\n",
       "      <th>Class</th>\n",
       "      <td>18185.0</td>\n",
       "      <td>0.549079</td>\n",
       "      <td>0.497599</td>\n",
       "      <td>0.000000</td>\n",
       "      <td>0.000000</td>\n",
       "      <td>1.000000</td>\n",
       "      <td>1.000000</td>\n",
       "      <td>1.000000</td>\n",
       "    </tr>\n",
       "  </tbody>\n",
       "</table>\n",
       "</div>"
      ],
      "text/plain": [
       "                   count         mean          std          min          25%  \\\n",
       "id               18185.0  9093.000000  5249.701658     1.000000  4547.000000   \n",
       "Area             18185.0  7036.492989  1467.197150  2522.000000  5962.000000   \n",
       "MajorAxisLength  18185.0   151.680754    12.376402    74.133114   145.675910   \n",
       "MinorAxisLength  18185.0    59.807851    10.061653    34.409894    51.393151   \n",
       "Eccentricity     18185.0     0.915406     0.030575     0.676647     0.891617   \n",
       "ConvexArea       18185.0  7225.817872  1502.006571  2579.000000  6125.000000   \n",
       "EquivDiameter    18185.0    94.132952     9.906250    56.666658    87.126656   \n",
       "Extent           18185.0     0.616653     0.104389     0.383239     0.538530   \n",
       "Perimeter        18185.0   351.606949    29.500620   197.015000   333.990000   \n",
       "Roundness        18185.0     0.707998     0.067310     0.174590     0.650962   \n",
       "AspectRation     18185.0     2.599081     0.434836     1.358128     2.208527   \n",
       "Class            18185.0     0.549079     0.497599     0.000000     0.000000   \n",
       "\n",
       "                         50%           75%           max  \n",
       "id               9093.000000  13639.000000  18185.000000  \n",
       "Area             6660.000000   8423.000000  10210.000000  \n",
       "MajorAxisLength   153.883750    160.056214    183.211434  \n",
       "MinorAxisLength    55.724288     70.156593     82.550762  \n",
       "Eccentricity        0.923259      0.941372      0.966774  \n",
       "ConvexArea       6843.000000   8645.000000  11008.000000  \n",
       "EquivDiameter      92.085696    103.559146    114.016559  \n",
       "Extent              0.601194      0.695664      0.886573  \n",
       "Perimeter         353.088000    373.003000    508.511000  \n",
       "Roundness           0.701941      0.769280      0.904748  \n",
       "AspectRation        2.602966      2.964101      3.911845  \n",
       "Class               1.000000      1.000000      1.000000  "
      ]
     },
     "execution_count": 68,
     "metadata": {},
     "output_type": "execute_result"
    }
   ],
   "source": [
    "df.describe().T"
   ]
  },
  {
   "cell_type": "markdown",
   "id": "00ae13de",
   "metadata": {},
   "source": [
    "Splitting the Dataset "
   ]
  },
  {
   "cell_type": "code",
   "execution_count": 69,
   "id": "d434d685",
   "metadata": {},
   "outputs": [],
   "source": [
    "df.drop(['id'],inplace=True,axis=1)"
   ]
  },
  {
   "cell_type": "code",
   "execution_count": 70,
   "id": "e77b1c3b",
   "metadata": {},
   "outputs": [],
   "source": [
    "X = np.array(df.iloc[0:,0:-1])"
   ]
  },
  {
   "cell_type": "code",
   "execution_count": 71,
   "id": "cbfe6a9b",
   "metadata": {},
   "outputs": [],
   "source": [
    "y = np.array(df['Class'])"
   ]
  },
  {
   "cell_type": "code",
   "execution_count": 72,
   "id": "6af4e9ad",
   "metadata": {},
   "outputs": [
    {
     "name": "stdout",
     "output_type": "stream",
     "text": [
      "70 Percent of the data is for training\n",
      "15 Percent of the data is for testing\n",
      "15 Percent of the data is for Validation\n"
     ]
    }
   ],
   "source": [
    "X_train, X_test, y_train, y_test = train_test_split(X, y, test_size=0.3, random_state=42)\n",
    "X_test, X_val, y_test, y_val = train_test_split(X_test, y_test, test_size = 0.5)\n",
    "print(f'{round(X_train.shape[0]/X.shape[0]*100)} Percent of the data is for training')\n",
    "print(f'{round(X_test.shape[0]/X.shape[0]*100)} Percent of the data is for testing')\n",
    "print(f'{round(X_val.shape[0]/X.shape[0]*100)} Percent of the data is for Validation')"
   ]
  },
  {
   "cell_type": "markdown",
   "id": "e2dcfa5b",
   "metadata": {},
   "source": [
    "Dataset and Dataloader"
   ]
  },
  {
   "cell_type": "code",
   "execution_count": 73,
   "id": "08e1f116",
   "metadata": {},
   "outputs": [
    {
     "name": "stdout",
     "output_type": "stream",
     "text": [
      "cuda\n"
     ]
    }
   ],
   "source": [
    "device = 'cuda' if torch.cuda.is_available else 'cpu'\n",
    "print(device)\n",
    "class DataPrep(Dataset):\n",
    "    def __init__(self,x,y):\n",
    "        self.x = torch.tensor(x,dtype=torch.float64).to(device)\n",
    "        self.y = torch.tensor(y,dtype=torch.float64).to(device)\n",
    "\n",
    "    def __getitem__(self, index):\n",
    "        return (self.x[index],self.y[index])\n",
    "    \n",
    "    def __len__(self):\n",
    "        return len(self.x.shape)\n",
    "        "
   ]
  },
  {
   "cell_type": "code",
   "execution_count": 74,
   "id": "9ed1c947",
   "metadata": {},
   "outputs": [],
   "source": [
    "training_data = DataPrep(X_train,y_train)\n",
    "testing_data = DataPrep(X_test,y_test)\n",
    "validation_data = DataPrep(X_val,y_val)"
   ]
  },
  {
   "cell_type": "code",
   "execution_count": 75,
   "id": "8dbd68fb",
   "metadata": {},
   "outputs": [],
   "source": [
    "batch_size = 16"
   ]
  },
  {
   "cell_type": "code",
   "execution_count": 76,
   "id": "2e02d5e1",
   "metadata": {},
   "outputs": [],
   "source": [
    "training_data_loader = DataLoader(training_data,shuffle=True,batch_size=batch_size)\n",
    "testing_data_loader = DataLoader(testing_data,shuffle=True,batch_size=batch_size)\n",
    "validation_data_loader = DataLoader(validation_data,shuffle=True,batch_size=batch_size)"
   ]
  },
  {
   "cell_type": "code",
   "execution_count": 77,
   "id": "c92df708",
   "metadata": {},
   "outputs": [
    {
     "name": "stdout",
     "output_type": "stream",
     "text": [
      "[tensor([[5.5140e+03, 1.5392e+02, 4.6455e+01, 9.5337e-01, 5.6910e+03, 8.3789e+01,\n",
      "         6.5208e-01, 3.4334e+02, 5.8778e-01, 3.3134e+00],\n",
      "        [8.7370e+03, 1.5977e+02, 7.0176e+01, 8.9838e-01, 8.9470e+03, 1.0547e+02,\n",
      "         7.7291e-01, 3.8522e+02, 7.3988e-01, 2.2767e+00]], device='cuda:0',\n",
      "       dtype=torch.float64), tensor([1., 0.], device='cuda:0', dtype=torch.float64)]\n"
     ]
    }
   ],
   "source": [
    "print(next(iter(testing_data_loader)))"
   ]
  },
  {
   "cell_type": "markdown",
   "id": "8cc4ca17",
   "metadata": {},
   "source": [
    "Creating Model"
   ]
  },
  {
   "cell_type": "code",
   "execution_count": 78,
   "id": "23a465e5",
   "metadata": {},
   "outputs": [],
   "source": [
    "class Model(nn.Module):\n",
    "    def __init__(self, input_dim):\n",
    "        super(Model, self).__init__()\n",
    "        \n",
    "        self.input_layer = nn.Linear(input_dim, 20)\n",
    "        self.hidden_layer_1 = nn.Linear(20, 10)\n",
    "        self.hidden_layer_2 = nn.Linear(10, 1)\n",
    " \n",
    "        \n",
    "        self.activation_hidden = nn.ReLU()    # good for hidden layers\n",
    "        self.activation_output = nn.Sigmoid() # good for binary output\n",
    "\n",
    "    def forward(self, x):\n",
    "        x = self.activation_hidden(self.input_layer(x))\n",
    "        x = self.activation_hidden(self.hidden_layer_1(x))\n",
    "        x = self.activation_output(self.hidden_layer_2(x))\n",
    "        return x\n"
   ]
  },
  {
   "cell_type": "code",
   "execution_count": null,
   "id": "0bc262b5",
   "metadata": {},
   "outputs": [
    {
     "data": {
      "text/plain": [
       "==========================================================================================\n",
       "Layer (type:depth-idx)                   Output Shape              Param #\n",
       "==========================================================================================\n",
       "Model                                    [1]                       --\n",
       "├─Linear: 1-1                            [20]                      220\n",
       "├─ReLU: 1-2                              [20]                      --\n",
       "├─Linear: 1-3                            [10]                      210\n",
       "├─ReLU: 1-4                              [10]                      --\n",
       "├─Linear: 1-5                            [1]                       11\n",
       "├─Sigmoid: 1-6                           [1]                       --\n",
       "==========================================================================================\n",
       "Total params: 441\n",
       "Trainable params: 441\n",
       "Non-trainable params: 0\n",
       "Total mult-adds (Units.MEGABYTES): 0.01\n",
       "==========================================================================================\n",
       "Input size (MB): 0.00\n",
       "Forward/backward pass size (MB): 0.00\n",
       "Params size (MB): 0.00\n",
       "Estimated Total Size (MB): 0.00\n",
       "=========================================================================================="
      ]
     },
     "execution_count": 79,
     "metadata": {},
     "output_type": "execute_result"
    }
   ],
   "source": [
    "model = Model(input_dim=X.shape[1]).double().to(device)\n",
    "summary(model, (X.shape[1],), dtypes=[torch.float64])"
   ]
  },
  {
   "cell_type": "markdown",
   "id": "8b8ceb04",
   "metadata": {},
   "source": [
    "Configuring hyperparameters and Loss Function"
   ]
  },
  {
   "cell_type": "code",
   "execution_count": 80,
   "id": "98d4e41a",
   "metadata": {},
   "outputs": [],
   "source": [
    "learning_rate = 1e-3\n",
    "epochs = 20\n",
    "criterion = nn.BCELoss()\n",
    "optimizer = Adam(model.parameters(),lr=learning_rate)"
   ]
  },
  {
   "cell_type": "code",
   "execution_count": 85,
   "id": "7ba8f63f",
   "metadata": {},
   "outputs": [
    {
     "name": "stdout",
     "output_type": "stream",
     "text": [
      "Epoch: 1||20  Total Loss: 100.0  Accuracy: 0.0\n",
      "Epoch: 2||20  Total Loss: 100.0  Accuracy: 0.0\n",
      "Epoch: 3||20  Total Loss: 100.0  Accuracy: 0.0\n",
      "Epoch: 4||20  Total Loss: 100.0  Accuracy: 0.0\n",
      "Epoch: 5||20  Total Loss: 100.0  Accuracy: 0.0\n",
      "Epoch: 6||20  Total Loss: 100.0  Accuracy: 0.0\n",
      "Epoch: 7||20  Total Loss: 100.0  Accuracy: 0.0\n",
      "Epoch: 8||20  Total Loss: 100.0  Accuracy: 0.0\n",
      "Epoch: 9||20  Total Loss: 100.0  Accuracy: 0.0\n",
      "Epoch: 10||20  Total Loss: 100.0  Accuracy: 0.0\n",
      "Epoch: 11||20  Total Loss: 100.0  Accuracy: 0.0\n",
      "Epoch: 12||20  Total Loss: 100.0  Accuracy: 0.0\n",
      "Epoch: 13||20  Total Loss: 100.0  Accuracy: 0.0\n",
      "Epoch: 14||20  Total Loss: 100.0  Accuracy: 0.0\n",
      "Epoch: 15||20  Total Loss: 100.0  Accuracy: 0.0\n",
      "Epoch: 16||20  Total Loss: 100.0  Accuracy: 0.0\n",
      "Epoch: 17||20  Total Loss: 100.0  Accuracy: 0.0\n",
      "Epoch: 18||20  Total Loss: 100.0  Accuracy: 0.0\n",
      "Epoch: 19||20  Total Loss: 100.0  Accuracy: 0.0\n",
      "Epoch: 20||20  Total Loss: 100.0  Accuracy: 0.0\n"
     ]
    }
   ],
   "source": [
    "for epoch in range(epochs):\n",
    "    total_loss_train = 0\n",
    "    epoch_correct = 0\n",
    "    epoch_total = 0\n",
    "\n",
    "    for data in training_data_loader:\n",
    "        inputs,label = data \n",
    "\n",
    "        prediction = model(inputs).squeeze(1)\n",
    "        correct = (prediction.round() == label).sum().item()\n",
    "        epoch_correct += correct\n",
    "        total = label.size(0)\n",
    "        epoch_total += total\n",
    "\n",
    "        batch_loss = criterion(prediction,label)\n",
    "        total_loss =+ batch_loss.item()\n",
    "        \n",
    "        acc = epoch_correct / epoch_total\n",
    "\n",
    "        batch_loss.backward()\n",
    "        optimizer.zero_grad()\n",
    "        optimizer.step()\n",
    "\n",
    "    print(f'Epoch: {epoch +1}||{epochs}  Total Loss: {total_loss}  Accuracy: {acc}')"
   ]
  }
 ],
 "metadata": {
  "kernelspec": {
   "display_name": "tech",
   "language": "python",
   "name": "python3"
  },
  "language_info": {
   "codemirror_mode": {
    "name": "ipython",
    "version": 3
   },
   "file_extension": ".py",
   "mimetype": "text/x-python",
   "name": "python",
   "nbconvert_exporter": "python",
   "pygments_lexer": "ipython3",
   "version": "3.13.5"
  }
 },
 "nbformat": 4,
 "nbformat_minor": 5
}
